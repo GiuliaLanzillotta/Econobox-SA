{
 "cells": [
  {
   "cell_type": "code",
   "execution_count": 1,
   "metadata": {},
   "outputs": [],
   "source": [
    "from embedding import pipeline as pipe\n",
    "import pickle\n",
    "from embedding.embedding_base import EmbeddingBase\n",
    "import pandas as pd\n",
    "from embedding import sentence_embedding\n",
    "from classifier import recurrent_NN as rec\n",
    "import numpy as np\n",
    "from classifier import Adaboost_classi as classy"
   ]
  },
  {
   "cell_type": "markdown",
   "metadata": {},
   "source": [
    "# Testing different preprocessing techniques performance"
   ]
  },
  {
   "cell_type": "markdown",
   "metadata": {},
   "source": [
    "## Let's try first with Adaboost Classifier"
   ]
  },
  {
   "cell_type": "code",
   "execution_count": 10,
   "metadata": {},
   "outputs": [],
   "source": [
    "scores20_0 = [0.680325 ,0.658475 ,0.654125 ,0.648725 ,0.647525]\n",
    "scores20_1 = [0.7461   ,0.7474  , 0.7326   ,0.73475 , 0.730725]\n",
    "scores30_0 = [0.6774  , 0.661475, 0.6538  , 0.650925 ,0.647925]\n",
    "scores30_1=  [0.75065,  0.745725 ,0.736025 ,0.737075 ,0.727625]\n",
    "scores50_0 =[0.673525, 0.663  ,  0.657475 ,0.6451   ,0.646475]\n",
    "scores50_1 =[0.743825 ,0.7433  , 0.73315 , 0.73565  ,0.726925]\n",
    "scores100_0 = [0.64295 , 0.6667  , 0.661025, 0.659025, 0.64955 ]\n",
    "scores100_1 = [0.743575, 0.740975 ,0.7302 ,  0.73245  ,0.7269  ]\n",
    "scores200_0 = [0.641875 ,0.665125, 0.66155,  0.661275, 0.6577  ]\n",
    "scores200_1 = [0.73855,  0.73525,  0.731025 ,0.729125 ,0.728825]\n",
    "scores1000_0 = [0.646675 ,0.67385 , 0.672125, 0.667775 ,0.65945 ]\n",
    "scores1000_1 = [0.73115,  0.7164  , 0.718725, 0.718575, 0.713975]\n",
    "scores2000_0 = [0.658475, 0.683375 ,0.67585 , 0.68075 , 0.66805 ]\n",
    "scores2000_1 = [0.73285  ,0.71675 , 0.713975 ,0.715275, 0.709   ]\n",
    "scores4000_0 = [0.66315 , 0.6851 ,  0.686425, 0.6852  , 0.679875]\n",
    "scores4000_1 =[0.7213   ,0.70065,  0.705275 ,0.70425 , 0.697275]\n",
    "\n",
    "scores6000_0=[0.6912 ,   0.686  ,  0.686025, 0.6857   ,0.674375]\n",
    "\n",
    "scores6000_1=[0.708025, 0.7015  , 0.702825, 0.703325, 0.689925]\n",
    "\n",
    "scores8000_0 = [0.695125 ,0.6836  , 0.6841  , 0.683425, 0.674375]\n",
    "scores8000_1=[0.6706   ,0.696275, 0.697625 ,0.684675, 0.68385 ]\n",
    "\n",
    "scores10000_0=[0.700875, 0.68765 , 0.684225 ,0.684875, 0.676075]\n",
    "\n",
    "scores10000_1=[0.669075 ,0.7042   ,0.697925 ,0.6951 ,  0.68755 ]\n",
    "\n",
    "scores12000_0=[0.65825 , 0.67965  ,0.6826 ,  0.679425 ,0.67635 ]\n",
    "\n",
    "scores12000_1=[0.706   , 0.693525 ,0.69675 , 0.682525 ,0.6801  ]\n",
    "\n",
    "scores14000_0=[0.658025 ,0.678975 ,0.680325 ,0.676975 ,0.674075]\n",
    "\n",
    "scores14000_1=[0.702   , 0.690625, 0.6952   ,0.682875, 0.6808  ]\n",
    "\n",
    "\n",
    "scores16000_0 = [0.683925, 0.6779 ,  0.679875 ,0.675425, 0.6704  ]\n",
    "\n",
    "scores16000_1 = [0.6593   ,0.688675, 0.695775, 0.692975, 0.679625]\n",
    "scores18000_0 =[0.6841  , 0.677975 ,0.678525, 0.67475 , 0.6696  ]\n",
    "\n",
    "scores18000_1 = [0.69825 , 0.6959  , 0.697625, 0.693425, 0.680575]\n",
    "scores20000_0 = [0.6839   ,  0.6758    , 0.68015 ,   0.674575  , 0.6722  ]\n",
    "scores20000_1 =[0.704675  , 0.69135  ,  0.697975 ,  0.696775 ,  0.68805 ]\n",
    "scores30000_0 =[0.682925  , 0.6849 ,    0.677925  , 0.67955  ,  0.673525]\n",
    "\n",
    "scores30000_1 =[0.7004   ,  0.687325 ,  0.69315  ,  0.69035 ,   0.67715 ]\n",
    "\n",
    "scores40000_0 = [0.681875 ,  0.680175  , 0.67905   , 0.679325  , 0.6738  ]\n",
    "scores40000_1 = [0.705675  , 0.6887  ,   0.693575  , 0.692525  , 0.683425]\n",
    "\n",
    "\n",
    "\n",
    "mean_0 = [np.mean(scores20_0),np.mean(scores30_0),np.mean(scores50_0),np.mean(scores100_0),np.mean(scores200_0),np.mean(scores1000_0),\n",
    "         np.mean(scores2000_0), np.mean(scores4000_0),np.mean(scores6000_0), np.mean(scores8000_0),np.mean(scores10000_0),\n",
    "         np.mean(scores12000_0),np.mean(scores14000_0), np.mean(scores16000_0 ), np.mean(scores18000_0 ), np.mean(scores20000_0),\n",
    "         np.mean(scores30000_0), np.mean(scores40000_0) ]\n",
    "mean_1 = [np.mean(scores20_1),np.mean(scores30_1),np.mean(scores50_1),np.mean(scores100_1),np.mean(scores200_1),np.mean(scores1000_1),\n",
    "         np.mean(scores2000_1),np.mean(scores4000_1),np.mean(scores6000_1), np.mean(scores8000_1),np.mean(scores10000_1),\n",
    "         np.mean(scores12000_1),np.mean(scores14000_1), np.mean(scores16000_1), np.mean(scores18000_1 ),\n",
    "          np.mean(scores20000_1),\n",
    "         np.mean(scores30000_1), np.mean(scores40000_1)]"
   ]
  },
  {
   "cell_type": "code",
   "execution_count": null,
   "metadata": {},
   "outputs": [],
   "source": []
  },
  {
   "cell_type": "code",
   "execution_count": 123,
   "metadata": {},
   "outputs": [
    {
     "data": {
      "text/plain": [
       "(0.6846599999999999, 0.7011200000000001)"
      ]
     },
     "execution_count": 123,
     "metadata": {},
     "output_type": "execute_result"
    }
   ],
   "source": [
    "np.mean(scores6000_0),np.mean(scores6000_1)"
   ]
  },
  {
   "cell_type": "code",
   "execution_count": 137,
   "metadata": {},
   "outputs": [
    {
     "data": {
      "text/plain": [
       "(0.673675, 0.6903)"
      ]
     },
     "execution_count": 137,
     "metadata": {},
     "output_type": "execute_result"
    }
   ],
   "source": [
    "np.mean(scores14000_0),np.mean(scores14000_1)"
   ]
  },
  {
   "cell_type": "code",
   "execution_count": 121,
   "metadata": {},
   "outputs": [
    {
     "data": {
      "text/plain": [
       "(0.68674, 0.69077)"
      ]
     },
     "execution_count": 121,
     "metadata": {},
     "output_type": "execute_result"
    }
   ],
   "source": [
    "np.mean(scores10000_0),np.mean(scores10000_1)"
   ]
  },
  {
   "cell_type": "code",
   "execution_count": 113,
   "metadata": {},
   "outputs": [
    {
     "data": {
      "text/plain": [
       "(0.6733, 0.71757)"
      ]
     },
     "execution_count": 113,
     "metadata": {},
     "output_type": "execute_result"
    }
   ],
   "source": [
    "np.mean(scores2000_0), np.mean(scores2000_1)"
   ]
  },
  {
   "cell_type": "code",
   "execution_count": 4,
   "metadata": {},
   "outputs": [
    {
     "data": {
      "text/plain": [
       "([0.6578350000000001,\n",
       "  0.658305,\n",
       "  0.657115,\n",
       "  0.6558499999999999,\n",
       "  0.6575049999999999,\n",
       "  0.663975,\n",
       "  0.6733,\n",
       "  0.67995,\n",
       "  0.6846599999999999,\n",
       "  0.684125,\n",
       "  0.68674,\n",
       "  0.6752549999999999,\n",
       "  0.673675,\n",
       "  0.677505,\n",
       "  0.67699],\n",
       " [0.738315,\n",
       "  0.73942,\n",
       "  0.7365700000000001,\n",
       "  0.73482,\n",
       "  0.7325550000000001,\n",
       "  0.719765,\n",
       "  0.71757,\n",
       "  0.70575,\n",
       "  0.7011200000000001,\n",
       "  0.6866049999999999,\n",
       "  0.69077,\n",
       "  0.69178,\n",
       "  0.6903,\n",
       "  0.68327,\n",
       "  0.6931550000000001])"
      ]
     },
     "execution_count": 4,
     "metadata": {},
     "output_type": "execute_result"
    }
   ],
   "source": [
    "mean_0, mean_1"
   ]
  },
  {
   "cell_type": "code",
   "execution_count": null,
   "metadata": {},
   "outputs": [],
   "source": []
  },
  {
   "cell_type": "code",
   "execution_count": 85,
   "metadata": {},
   "outputs": [
    {
     "name": "stdout",
     "output_type": "stream",
     "text": [
      "0.658 0.738 \n",
      " 0.658 0.739 \n",
      " 0.657 0.737 \n",
      " 0.656 0.735 \n",
      " 0.658 0.733 \n",
      " 0.664 0.72\n"
     ]
    }
   ],
   "source": [
    "print(round(np.mean(scores20_0),3),\n",
    "round(np.mean(scores20_1),3),\"\\n\",\n",
    "round(np.mean(scores30_0),3),\n",
    "round(np.mean(scores30_1),3),\"\\n\",\n",
    "round(np.mean(scores50_0),3),\n",
    "round(np.mean(scores50_1),3),\"\\n\",\n",
    "    round(np.mean(scores100_0),3),\n",
    "round(np.mean(scores100_1),3),\"\\n\",\n",
    "     round(np.mean(scores200_0),3),\n",
    "          round(np.mean(scores200_1),3),\"\\n\",\n",
    "round(np.mean(scores1000_0),3), \n",
    "     \n",
    "round(np.mean(scores1000_1),3)\n",
    "     \n",
    "     )"
   ]
  },
  {
   "cell_type": "code",
   "execution_count": 12,
   "metadata": {},
   "outputs": [],
   "source": [
    "x = [20,30,50,100,200,1000,2000,4000,6000,8000,10000,12000,14000,16000,18000,20000,30000,40000]"
   ]
  },
  {
   "cell_type": "code",
   "execution_count": 13,
   "metadata": {},
   "outputs": [
    {
     "data": {
      "text/plain": [
       "Text(0, 0.5, 'accuracy')"
      ]
     },
     "execution_count": 13,
     "metadata": {},
     "output_type": "execute_result"
    },
    {
     "data": {
      "image/png": "[encoded data removed]",
      "text/plain": [
       "<Figure size 432x288 with 1 Axes>"
      ]
     },
     "metadata": {
      "needs_background": "light"
     },
     "output_type": "display_data"
    }
   ],
   "source": [
    "import matplotlib.pyplot  as plt\n",
    "ax1 = plt.subplot()\n",
    "ax1.plot(x,mean_0)\n",
    "ax1.set_xlim([0, 40000])\n",
    "ax1.set_ylim([0.60,0.80])\n",
    "ax1.plot(x,mean_1)\n",
    "plt.legend(('no-embedding', 'sum-embedding'),\n",
    "           loc='upper right')\n",
    "plt.title('Performance with different minimum occurences values')\n",
    "plt.xlabel(\"minimum occurences\")\n",
    "plt.ylabel('accuracy')"
   ]
  },
  {
   "cell_type": "code",
   "execution_count": 71,
   "metadata": {},
   "outputs": [
    {
     "data": {
      "text/plain": [
       "0.7346799999999999"
      ]
     },
     "execution_count": 71,
     "metadata": {},
     "output_type": "execute_result"
    }
   ],
   "source": [
    "np.mean([0.744575 ,0.738725 ,0.7344,   0.727225, 0.728475])"
   ]
  },
  {
   "cell_type": "code",
   "execution_count": 2,
   "metadata": {},
   "outputs": [],
   "source": [
    "ada1 = classy.Adaboost_classi(embedding_dimension=200)\n"
   ]
  }
 ],
 "metadata": {
  "kernelspec": {
   "display_name": "Python 3",
   "language": "python",
   "name": "python3"
  },
  "language_info": {
   "codemirror_mode": {
    "name": "ipython",
    "version": 3
   },
   "file_extension": ".py",
   "mimetype": "text/x-python",
   "name": "python",
   "nbconvert_exporter": "python",
   "pygments_lexer": "ipython3",
   "version": "3.7.7"
  }
 },
 "nbformat": 4,
 "nbformat_minor": 4
}
